{
 "cells": [
  {
   "cell_type": "markdown",
   "id": "a8ece8f4",
   "metadata": {},
   "source": [
    "- ways to declare dictionary\n",
    "- how to access key value pairs\n",
    "- loops in dictionary\n",
    "- nested dictionary"
   ]
  },
  {
   "cell_type": "code",
   "execution_count": 6,
   "id": "8871e275",
   "metadata": {},
   "outputs": [
    {
     "name": "stdout",
     "output_type": "stream",
     "text": [
      "{'name': 'Devansh Pandey', 'age': 20, 'course': 'BCA', 'college': 'SSGI'}\n"
     ]
    }
   ],
   "source": [
    "student = { \n",
    "    \"name\" : \"Devansh Pandey\",\n",
    "    \"age\" : 20,\n",
    "    'course' : \"BCA\",\n",
    "    \"college\" : \"SSGI\",\n",
    "    }\n",
    "print(student)"
   ]
  },
  {
   "cell_type": "code",
   "execution_count": 3,
   "metadata": {},
   "outputs": [
    {
     "name": "stdout",
     "output_type": "stream",
     "text": [
      "{'lucknow': [35, 28, 40], 'delhi': [30, 25, 35], 'chennai': [40, 35, 30]}\n"
     ]
    }
   ],
   "source": [
    "temp = {\n",
    "    'lucknow' : [35,28,40],\n",
    "    'delhi' : [30,25,35],\n",
    "    'chennai' : [40,35,30],\n",
    "}\n",
    "print(temp)"
   ]
  },
  {
   "cell_type": "code",
   "execution_count": 8,
   "id": "1099117b",
   "metadata": {},
   "outputs": [
    {
     "name": "stdout",
     "output_type": "stream",
     "text": [
      "{'name': 'Devansh Pandey', 'age': 20, 'course': 'BCA', 'college': 'SSGI'}\n"
     ]
    }
   ],
   "source": [
    "info = dict(name =input(\"Enter your name\"), age = 20, course = \"BCA\", college = \"SSGI\")\n",
    "print(info)"
   ]
  },
  {
   "cell_type": "code",
   "execution_count": 9,
   "id": "8da1f4ea",
   "metadata": {},
   "outputs": [
    {
     "name": "stdout",
     "output_type": "stream",
     "text": [
      "Devansh Pandey\n",
      "20\n"
     ]
    }
   ],
   "source": [
    "print(student['name'])\n",
    "print(info['age'])"
   ]
  },
  {
   "cell_type": "code",
   "execution_count": 10,
   "id": "204bb8e5",
   "metadata": {},
   "outputs": [
    {
     "name": "stdout",
     "output_type": "stream",
     "text": [
      "{'name': 'Devansh Pandey', 'age': 20, 'course': 'BCA', 'college': 'SSGI', 'city': 'basti'}\n"
     ]
    }
   ],
   "source": [
    "student['city'] = 'basti'\n",
    "print(student)"
   ]
  },
  {
   "cell_type": "code",
   "execution_count": 14,
   "id": "7d906556",
   "metadata": {},
   "outputs": [
    {
     "name": "stdout",
     "output_type": "stream",
     "text": [
      "dict_keys(['name', 'age', 'course', 'college', 'city'])\n",
      "dict_values(['Devansh Pandey', 20, 'BCA', 'SSGI', 'basti'])\n",
      "dict_items([('name', 'Devansh Pandey'), ('age', 20), ('course', 'BCA'), ('college', 'SSGI'), ('city', 'basti')])\n"
     ]
    }
   ],
   "source": [
    "print(student.keys())\n",
    "print(student.values())\n",
    "print(student.items())"
   ]
  },
  {
   "cell_type": "code",
   "execution_count": 18,
   "id": "c137a11f",
   "metadata": {},
   "outputs": [
    {
     "name": "stdout",
     "output_type": "stream",
     "text": [
      "name\n",
      "age\n",
      "course\n",
      "college\n",
      "city\n",
      "name : Devansh Pandey\n",
      "age : 20\n",
      "course : BCA\n",
      "college : SSGI\n",
      "city : basti\n"
     ]
    }
   ],
   "source": [
    "for keys in student:\n",
    "    print(keys)\n",
    "for k,v in student.items():\n",
    "    print(f'{k} : {v}')"
   ]
  },
  {
   "cell_type": "code",
   "execution_count": 19,
   "id": "8b94f5e0",
   "metadata": {},
   "outputs": [
    {
     "name": "stdout",
     "output_type": "stream",
     "text": [
      "{'emp001': {'name': 'Bob', 'salary': 20000, 'dept': 'sales'}, 'emp002': {'name': 'Smith', 'salary': 30000, 'dept': 'smuggling'}, 'emp003': {'name': 'Sam', ' salary': 50000, 'dept': 'IT'}}\n"
     ]
    }
   ],
   "source": [
    "company = {\n",
    "    'emp001' : {\n",
    "        'name' : 'Bob',\n",
    "        'salary' : 20000,\n",
    "        'dept' : 'sales'\n",
    "    },\n",
    "    'emp002' : {\n",
    "        'name' : 'Smith',\n",
    "        'salary' : 30000,\n",
    "        'dept' : 'smuggling'\n",
    "    },\n",
    "    'emp003' : {\n",
    "        'name' : 'Sam',\n",
    "        ' salary' : 50000,\n",
    "        'dept' : 'IT'\n",
    "    }\n",
    "}\n",
    "print(company)\n"
   ]
  },
  {
   "cell_type": "code",
   "execution_count": 21,
   "id": "9fc48846",
   "metadata": {},
   "outputs": [
    {
     "name": "stdout",
     "output_type": "stream",
     "text": [
      "{'emp001': {'dept': 'sales', 'name': 'Bob', 'salary': 20000},\n",
      " 'emp002': {'dept': 'smuggling', 'name': 'Smith', 'salary': 30000},\n",
      " 'emp003': {' salary': 50000, 'dept': 'IT', 'name': 'Sam'}}\n"
     ]
    }
   ],
   "source": [
    "from pprint import pprint\n",
    "pprint(company)"
   ]
  },
  {
   "cell_type": "code",
   "execution_count": 23,
   "id": "8ed66218",
   "metadata": {},
   "outputs": [
    {
     "data": {
      "text/plain": [
       "20000"
      ]
     },
     "execution_count": 23,
     "metadata": {},
     "output_type": "execute_result"
    }
   ],
   "source": [
    "company['emp001']['salary']"
   ]
  },
  {
   "cell_type": "code",
   "execution_count": 28,
   "id": "1e32ecc1",
   "metadata": {},
   "outputs": [
    {
     "name": "stdout",
     "output_type": "stream",
     "text": [
      "Average temperature of delhi is : 30.0\n"
     ]
    }
   ],
   "source": [
    "#calculate the average temperature of delhi in temp dictionary\n",
    "print(f'Average temperature of delhi is : {sum(temp['delhi'])/len(temp['delhi'])}')\n"
   ]
  },
  {
   "cell_type": "code",
   "execution_count": null,
   "id": "bd6e3392",
   "metadata": {},
   "outputs": [],
   "source": []
  }
 ],
 "metadata": {
  "kernelspec": {
   "display_name": "base",
   "language": "python",
   "name": "python3"
  },
  "language_info": {
   "codemirror_mode": {
    "name": "ipython",
    "version": 3
   },
   "file_extension": ".py",
   "mimetype": "text/x-python",
   "name": "python",
   "nbconvert_exporter": "python",
   "pygments_lexer": "ipython3",
   "version": "3.13.2"
  }
 },
 "nbformat": 4,
 "nbformat_minor": 5
}
