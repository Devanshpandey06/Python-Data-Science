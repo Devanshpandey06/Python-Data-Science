{
 "cells": [
  {
   "cell_type": "markdown",
   "id": "7fb8d35e",
   "metadata": {},
   "source": [
    "##### LIST"
   ]
  },
  {
   "cell_type": "code",
   "execution_count": 33,
   "id": "622c62b8",
   "metadata": {},
   "outputs": [
    {
     "name": "stdout",
     "output_type": "stream",
     "text": [
      "instagram, facebook, twitter, youtube, spotify, snapchat, whatsapp, telegram, truecaller, myntra, lindedin, amazon, 12\n"
     ]
    }
   ],
   "source": [
    "applist= [\"instagram\",\"facebook\",\"twitter\",\"youtube\",\"spotify\",\"snapchat\",\"whatsapp\",\"telegram\",\"truecaller\",\"myntra\",\"lindedin\",\"amazon\"]\n",
    "for app in applist:\n",
    "    print(app,end=\", \")\n",
    "print(len(applist))\n"
   ]
  },
  {
   "cell_type": "markdown",
   "id": "fb11f487",
   "metadata": {},
   "source": [
    "##### INDEXING & SLICING"
   ]
  },
  {
   "cell_type": "code",
   "execution_count": 34,
   "id": "0bcb3974",
   "metadata": {},
   "outputs": [
    {
     "name": "stdout",
     "output_type": "stream",
     "text": [
      "youtube\n",
      "whatsapp\n"
     ]
    }
   ],
   "source": [
    "print(applist[3])\n",
    "print(applist[6])\n",
    "\n"
   ]
  },
  {
   "cell_type": "code",
   "execution_count": 35,
   "id": "e93f1e9f",
   "metadata": {},
   "outputs": [
    {
     "name": "stdout",
     "output_type": "stream",
     "text": [
      "truecaller\n",
      "spotify\n"
     ]
    }
   ],
   "source": [
    "print(applist[-4])\n",
    "print(applist[-8])"
   ]
  },
  {
   "cell_type": "code",
   "execution_count": 36,
   "id": "977eb816",
   "metadata": {},
   "outputs": [
    {
     "name": "stdout",
     "output_type": "stream",
     "text": [
      "['instagram', 'facebook', 'twitter', 'youtube', 'spotify']\n",
      "['snapchat', 'telegram', 'myntra']\n",
      "['instagram', 'facebook', 'twitter', 'youtube', 'spotify', 'snapchat', 'whatsapp', 'telegram', 'truecaller', 'myntra', 'lindedin', 'amazon']\n",
      "['instagram', 'facebook']\n",
      "['twitter', 'youtube', 'spotify', 'snapchat', 'whatsapp', 'telegram', 'truecaller', 'myntra', 'lindedin', 'amazon']\n"
     ]
    }
   ],
   "source": [
    "print(applist[0:5])\n",
    "print(applist[5:10:2])\n",
    "print(applist[:])\n",
    "print(applist[:2])\n",
    "print(applist[2:])"
   ]
  },
  {
   "cell_type": "markdown",
   "id": "0eff8cad",
   "metadata": {},
   "source": [
    "##### LIST METHODS\n",
    "- append() - to add item at the end of the list\n",
    "- insert() - to add item at any specific position in the list\n",
    "- pop() - to delete item using its index position\n",
    "- remove() - to delete items using item name\n",
    "- copy() - to make a duplicate of the list\n",
    "- sort() - to sort the list i particular order\n",
    "- extend() - to combine two list into a single list\n",
    "- clear() - to delete all the items from the list but not the list"
   ]
  },
  {
   "cell_type": "code",
   "execution_count": 37,
   "id": "46d93f5a",
   "metadata": {},
   "outputs": [
    {
     "name": "stdout",
     "output_type": "stream",
     "text": [
      "['instagram', 'facebook', 'twitter', 'youtube', 'spotify', 'snapchat', 'whatsapp', 'telegram', 'truecaller', 'myntra', 'lindedin', 'amazon', 'tiktok']\n"
     ]
    }
   ],
   "source": [
    "applist.append(\"tiktok\")\n",
    "print(applist)"
   ]
  },
  {
   "cell_type": "code",
   "execution_count": 38,
   "id": "fbde43cb",
   "metadata": {},
   "outputs": [
    {
     "name": "stdout",
     "output_type": "stream",
     "text": [
      "['instagram', 'facebook', 'pinterest', 'twitter', 'youtube', 'spotify', 'snapchat', 'whatsapp', 'telegram', 'truecaller', 'myntra', 'lindedin', 'amazon', 'tiktok']\n"
     ]
    }
   ],
   "source": [
    "applist.insert(2,\"pinterest\")\n",
    "print(applist)"
   ]
  },
  {
   "cell_type": "code",
   "execution_count": 39,
   "id": "79340eef",
   "metadata": {},
   "outputs": [
    {
     "name": "stdout",
     "output_type": "stream",
     "text": [
      "['instagram', 'facebook', 'twitter', 'youtube', 'spotify', 'snapchat', 'whatsapp', 'telegram', 'truecaller', 'myntra', 'lindedin', 'amazon', 'tiktok']\n"
     ]
    }
   ],
   "source": [
    "applist.pop(2)\n",
    "print(applist)"
   ]
  },
  {
   "cell_type": "code",
   "execution_count": 40,
   "id": "fddbb51f",
   "metadata": {},
   "outputs": [
    {
     "name": "stdout",
     "output_type": "stream",
     "text": [
      "['instagram', 'facebook', 'twitter', 'youtube', 'spotify', 'snapchat', 'whatsapp', 'telegram', 'truecaller', 'myntra', 'lindedin', 'amazon']\n"
     ]
    }
   ],
   "source": [
    "applist.remove(\"tiktok\")\n",
    "print(applist)"
   ]
  },
  {
   "cell_type": "code",
   "execution_count": 41,
   "id": "b22ebed8",
   "metadata": {},
   "outputs": [
    {
     "name": "stdout",
     "output_type": "stream",
     "text": [
      "['instagram', 'facebook', 'twitter', 'youtube', 'spotify', 'snapchat', 'whatsapp', 'telegram', 'truecaller', 'myntra', 'lindedin', 'amazon']\n"
     ]
    }
   ],
   "source": [
    "applist_copy = applist.copy()\n",
    "print(applist_copy)"
   ]
  },
  {
   "cell_type": "code",
   "execution_count": 42,
   "id": "73453d18",
   "metadata": {},
   "outputs": [],
   "source": [
    "applist.append('Zoom')\n"
   ]
  },
  {
   "cell_type": "code",
   "execution_count": 43,
   "id": "7c8d02ad",
   "metadata": {},
   "outputs": [
    {
     "name": "stdout",
     "output_type": "stream",
     "text": [
      "['Zoom', 'amazon', 'facebook', 'instagram', 'lindedin', 'myntra', 'snapchat', 'spotify', 'telegram', 'truecaller', 'twitter', 'whatsapp', 'youtube']\n"
     ]
    }
   ],
   "source": [
    "applist.sort()\n",
    "print(applist)"
   ]
  },
  {
   "cell_type": "code",
   "execution_count": 47,
   "id": "96461ed9",
   "metadata": {},
   "outputs": [
    {
     "name": "stdout",
     "output_type": "stream",
     "text": [
      "['Zoom', 'amazon', 'facebook', 'instagram', 'lindedin', 'myntra', 'snapchat', 'spotify', 'telegram', 'truecaller', 'twitter', 'whatsapp', 'youtube', 1, 2, 3, 4, 5, 1, 2, 3, 4, 5, 1, 2, 3, 4, 5, 1, 2, 3, 4, 5]\n"
     ]
    }
   ],
   "source": [
    "a = [1, 2, 3, 4, 5]\n",
    "applist.extend(a)\n",
    "print(applist)"
   ]
  },
  {
   "cell_type": "code",
   "execution_count": 2,
   "id": "041be9f4",
   "metadata": {},
   "outputs": [
    {
     "name": "stdout",
     "output_type": "stream",
     "text": [
      "[10, 20, 30, 40]\n",
      "[10, 20, 30, 40]\n"
     ]
    }
   ],
   "source": [
    "a=[10,20]\n",
    "b=a\n",
    "b+=[30,40]\n",
    "print(a)\n",
    "print(b)"
   ]
  },
  {
   "cell_type": "code",
   "execution_count": 5,
   "id": "7fdb79ae",
   "metadata": {},
   "outputs": [],
   "source": [
    "dict1={\"a\":1,\"b\":2,\"c\":3}\n",
    "dict1[\"a\"]=5"
   ]
  },
  {
   "cell_type": "code",
   "execution_count": null,
   "id": "2d3b4d22",
   "metadata": {},
   "outputs": [],
   "source": []
  }
 ],
 "metadata": {
  "kernelspec": {
   "display_name": "base",
   "language": "python",
   "name": "python3"
  },
  "language_info": {
   "codemirror_mode": {
    "name": "ipython",
    "version": 3
   },
   "file_extension": ".py",
   "mimetype": "text/x-python",
   "name": "python",
   "nbconvert_exporter": "python",
   "pygments_lexer": "ipython3",
   "version": "3.13.2"
  }
 },
 "nbformat": 4,
 "nbformat_minor": 5
}
