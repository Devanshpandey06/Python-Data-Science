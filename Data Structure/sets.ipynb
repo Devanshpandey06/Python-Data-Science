{
 "cells": [
  {
   "cell_type": "markdown",
   "id": "303a06f0",
   "metadata": {},
   "source": [
    "- set is an unordered collection of unique items\n",
    "- curly brackets {} are used to define set"
   ]
  },
  {
   "cell_type": "code",
   "execution_count": 3,
   "id": "5e26e0b5",
   "metadata": {},
   "outputs": [
    {
     "name": "stdout",
     "output_type": "stream",
     "text": [
      "{'banana', 'cherry', 'elderberry', 'date', 'apple'}\n"
     ]
    }
   ],
   "source": [
    "fruit = {'apple', 'banana', 'cherry', 'date', 'elderberry'}\n",
    "print(fruit)"
   ]
  },
  {
   "cell_type": "code",
   "execution_count": 4,
   "id": "52ea98b5",
   "metadata": {},
   "outputs": [
    {
     "name": "stdout",
     "output_type": "stream",
     "text": [
      "{1, 2, 3, 4, 5}\n"
     ]
    }
   ],
   "source": [
    "num = {1, 2, 3, 4, 5}\n",
    "print(num)"
   ]
  },
  {
   "cell_type": "code",
   "execution_count": null,
   "id": "0cfcfedb",
   "metadata": {},
   "outputs": [],
   "source": [
    "# method 1 to create set\n",
    "s1 = {1, 2, 3, 4, 5}\n",
    "\n",
    "# method 2 to create set\n",
    "s2 = set([1,2,3,4,5])\n",
    "\n"
   ]
  },
  {
   "cell_type": "code",
   "execution_count": 6,
   "id": "e9a230bf",
   "metadata": {},
   "outputs": [
    {
     "name": "stdout",
     "output_type": "stream",
     "text": [
      "False\n"
     ]
    }
   ],
   "source": [
    "print (0.1+0.2==0.3)"
   ]
  },
  {
   "cell_type": "code",
   "execution_count": null,
   "id": "d0eda90b",
   "metadata": {},
   "outputs": [
    {
     "ename": "TypeError",
     "evalue": "can only concatenate str (not \"int\") to str",
     "output_type": "error",
     "traceback": [
      "\u001b[31m---------------------------------------------------------------------------\u001b[39m",
      "\u001b[31mTypeError\u001b[39m                                 Traceback (most recent call last)",
      "\u001b[36mCell\u001b[39m\u001b[36m \u001b[39m\u001b[32mIn[7]\u001b[39m\u001b[32m, line 1\u001b[39m\n\u001b[32m----> \u001b[39m\u001b[32m1\u001b[39m \u001b[38;5;28mprint\u001b[39m(\u001b[33;43m\"\u001b[39;49m\u001b[33;43mHELLO\u001b[39;49m\u001b[33;43m\"\u001b[39;49m\u001b[43m \u001b[49m\u001b[43m+\u001b[49m\u001b[43m \u001b[49m\u001b[32;43m2\u001b[39;49m + \u001b[33m\"\u001b[39m\u001b[33mWORLD\u001b[39m\u001b[33m\"\u001b[39m)  \u001b[38;5;66;03m# This will raise an error because you cannot concatenate a string and an integer directly.\u001b[39;00m\n",
      "\u001b[31mTypeError\u001b[39m: can only concatenate str (not \"int\") to str"
     ]
    }
   ],
   "source": [
    "lis"
   ]
  },
  {
   "cell_type": "code",
   "execution_count": null,
   "id": "22c73f05",
   "metadata": {},
   "outputs": [],
   "source": []
  }
 ],
 "metadata": {
  "kernelspec": {
   "display_name": "base",
   "language": "python",
   "name": "python3"
  },
  "language_info": {
   "codemirror_mode": {
    "name": "ipython",
    "version": 3
   },
   "file_extension": ".py",
   "mimetype": "text/x-python",
   "name": "python",
   "nbconvert_exporter": "python",
   "pygments_lexer": "ipython3",
   "version": "3.13.2"
  }
 },
 "nbformat": 4,
 "nbformat_minor": 5
}
