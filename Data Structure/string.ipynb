{
 "cells": [
  {
   "cell_type": "markdown",
   "id": "2843f977",
   "metadata": {},
   "source": [
    "##### STRING"
   ]
  },
  {
   "cell_type": "code",
   "execution_count": 2,
   "id": "bb2aead6",
   "metadata": {},
   "outputs": [
    {
     "name": "stdout",
     "output_type": "stream",
     "text": [
      "Devansh pandey Basti\n"
     ]
    }
   ],
   "source": [
    "name = 'Devansh pandey'\n",
    "city = 'Basti'\n",
    "print(name, city)\n",
    "\n"
   ]
  },
  {
   "cell_type": "code",
   "execution_count": 3,
   "id": "b0131bae",
   "metadata": {},
   "outputs": [
    {
     "name": "stdout",
     "output_type": "stream",
     "text": [
      "Hello world I am don\n"
     ]
    }
   ],
   "source": [
    "# How to declare a string\n",
    "text1 = 'Hello world'\n",
    "text2 = \"I am don\"\n",
    "print(text1, text2)"
   ]
  },
  {
   "cell_type": "code",
   "execution_count": 4,
   "id": "c556071c",
   "metadata": {},
   "outputs": [
    {
     "name": "stdout",
     "output_type": "stream",
     "text": [
      "I am a python developer\n"
     ]
    }
   ],
   "source": [
    "#Printing a string\n",
    "msg = 'I am a python developer'\n",
    "print(msg)"
   ]
  },
  {
   "cell_type": "code",
   "execution_count": 5,
   "id": "66b684d7",
   "metadata": {},
   "outputs": [
    {
     "name": "stdout",
     "output_type": "stream",
     "text": [
      "P\n",
      "y\n",
      "n\n",
      "o\n"
     ]
    }
   ],
   "source": [
    "# String indexing\n",
    "word = 'Python'\n",
    "print(word[0])  # First character\n",
    "print(word[1])  # Second character\n",
    "print(word[-1])  # Last character\n",
    "print(word[-2])  # Second last character\n"
   ]
  },
  {
   "cell_type": "code",
   "execution_count": 6,
   "id": "212c9eb0",
   "metadata": {},
   "outputs": [
    {
     "name": "stdout",
     "output_type": "stream",
     "text": [
      "Hello World\n"
     ]
    }
   ],
   "source": [
    "# String concatenation\n",
    "str1 = 'Hello'\n",
    "str2 = 'World'\n",
    "print(str1 + ' ' + str2)  # Using + operator"
   ]
  },
  {
   "cell_type": "code",
   "execution_count": 7,
   "id": "f63d5664",
   "metadata": {},
   "outputs": [
    {
     "name": "stdout",
     "output_type": "stream",
     "text": [
      "I am 21 years old\n"
     ]
    }
   ],
   "source": [
    "# String with numbers\n",
    "age = 21\n",
    "print(\"I am \" + str(age) + \" years old\")  # Convert age to string"
   ]
  },
  {
   "cell_type": "markdown",
   "id": "2674b6df",
   "metadata": {},
   "source": [
    "Useful string functions\n",
    "- len() - to check length of the string\n",
    "- .upper() - converts to uppercase\n",
    "- .lower() - converts to lowercase\n",
    "- .replace() - replaces a character of string\n",
    "- .count() - to count the no of occurences of a character\n"
   ]
  },
  {
   "cell_type": "code",
   "execution_count": 8,
   "id": "1724af58",
   "metadata": {},
   "outputs": [
    {
     "name": "stdout",
     "output_type": "stream",
     "text": [
      "6\n"
     ]
    }
   ],
   "source": [
    "# using len() function\n",
    "word = 'Python'\n",
    "print(len(word))"
   ]
  },
  {
   "cell_type": "code",
   "execution_count": 9,
   "id": "6a1ae329",
   "metadata": {},
   "outputs": [
    {
     "name": "stdout",
     "output_type": "stream",
     "text": [
      "DEVANSH PANDEY\n"
     ]
    }
   ],
   "source": [
    "# using .upper() function\n",
    "name = 'devansh pandey'\n",
    "print(name.upper())"
   ]
  },
  {
   "cell_type": "code",
   "execution_count": 10,
   "id": "b50a08f0",
   "metadata": {},
   "outputs": [
    {
     "name": "stdout",
     "output_type": "stream",
     "text": [
      "devansh pandey\n"
     ]
    }
   ],
   "source": [
    "# using .lower() function\n",
    "name = 'DEVANSH PANDEY'\n",
    "print(name.lower())"
   ]
  },
  {
   "cell_type": "code",
   "execution_count": 13,
   "id": "90c8b6bc",
   "metadata": {},
   "outputs": [
    {
     "name": "stdout",
     "output_type": "stream",
     "text": [
      "Shivam Pandey\n"
     ]
    }
   ],
   "source": [
    "# using .replace() function\n",
    "name = 'Devansh Pandey'\n",
    "print(name.replace('Devansh', 'Shivam'))  "
   ]
  },
  {
   "cell_type": "code",
   "execution_count": 14,
   "id": "d4577675",
   "metadata": {},
   "outputs": [
    {
     "name": "stdout",
     "output_type": "stream",
     "text": [
      "Devansh pandey\n"
     ]
    }
   ],
   "source": [
    "# using .captitalize() function\n",
    "name = 'devansh pandey'\n",
    "print(name.capitalize())  # Capitalizes the first letter of the string"
   ]
  },
  {
   "cell_type": "code",
   "execution_count": 15,
   "id": "829ebb09",
   "metadata": {},
   "outputs": [
    {
     "name": "stdout",
     "output_type": "stream",
     "text": [
      "2\n"
     ]
    }
   ],
   "source": [
    "# using .count() function\n",
    "name = 'devansh pandey'\n",
    "print(name.count('a'))  # Counts the number of occurrences of 'a'"
   ]
  },
  {
   "cell_type": "code",
   "execution_count": 16,
   "id": "b3772f40",
   "metadata": {},
   "outputs": [
    {
     "name": "stdout",
     "output_type": "stream",
     "text": [
      "Devansh Pandey\n"
     ]
    }
   ],
   "source": [
    "# using .title() function\n",
    "name = 'devansh pandey'\n",
    "print(name.title())  # Capitalizes the first letter of each word\n"
   ]
  },
  {
   "cell_type": "code",
   "execution_count": 19,
   "id": "9b2f2185",
   "metadata": {},
   "outputs": [
    {
     "name": "stdout",
     "output_type": "stream",
     "text": [
      "devansh pandey\n"
     ]
    }
   ],
   "source": [
    "# using .strip() function\n",
    "name = '   devansh pandey   '\n",
    "print(name.strip())  # Removes leading and trailing whitespace\n"
   ]
  },
  {
   "cell_type": "code",
   "execution_count": 20,
   "id": "6bfeb0fe",
   "metadata": {},
   "outputs": [
    {
     "name": "stdout",
     "output_type": "stream",
     "text": [
      "3\n"
     ]
    }
   ],
   "source": [
    "# using .find() function\n",
    "name = 'devansh pandey'\n",
    "print(name.find('a'))  # Returns the index of the first occurrence of 'a'\n"
   ]
  },
  {
   "cell_type": "code",
   "execution_count": 21,
   "id": "825da385",
   "metadata": {},
   "outputs": [
    {
     "name": "stdout",
     "output_type": "stream",
     "text": [
      "True\n"
     ]
    }
   ],
   "source": [
    "# using startswith() function\n",
    "name = 'devansh pandey'\n",
    "print(name.startswith('dev'))  # Checks if the string starts with 'dev'"
   ]
  },
  {
   "cell_type": "code",
   "execution_count": 22,
   "id": "e67a9b78",
   "metadata": {},
   "outputs": [
    {
     "name": "stdout",
     "output_type": "stream",
     "text": [
      "True\n"
     ]
    }
   ],
   "source": [
    "# using endswith() function\n",
    "name = 'devansh pandey'\n",
    "print(name.endswith('ey'))  # Checks if the string ends with 'ey'"
   ]
  },
  {
   "cell_type": "code",
   "execution_count": 23,
   "id": "957998f0",
   "metadata": {},
   "outputs": [
    {
     "name": "stdout",
     "output_type": "stream",
     "text": [
      "['devansh', 'pandey']\n"
     ]
    }
   ],
   "source": [
    "# using .split() function\n",
    "name = 'devansh pandey'\n",
    "print(name.split())  # Splits the string into a list of words\n"
   ]
  },
  {
   "cell_type": "code",
   "execution_count": 24,
   "id": "539246fe",
   "metadata": {},
   "outputs": [
    {
     "name": "stdout",
     "output_type": "stream",
     "text": [
      "Hello\n"
     ]
    }
   ],
   "source": [
    "# slicing a string\n",
    "text = 'Hello, World!'\n",
    "print(text[0:5])"
   ]
  },
  {
   "cell_type": "code",
   "execution_count": 27,
   "id": "c672b4c4",
   "metadata": {},
   "outputs": [
    {
     "name": "stdout",
     "output_type": "stream",
     "text": [
      "HelloHelloHello\n"
     ]
    }
   ],
   "source": [
    "# string repetition\n",
    "text = 'Hello'\n",
    "print(text * 3)  # Repeats the string 3 times\n"
   ]
  },
  {
   "cell_type": "code",
   "execution_count": 29,
   "id": "2108161c",
   "metadata": {},
   "outputs": [
    {
     "name": "stdout",
     "output_type": "stream",
     "text": [
      "True\n",
      "True\n",
      "False\n"
     ]
    }
   ],
   "source": [
    "# check substring (in/not in operator)\n",
    "text = 'I am a Python developer'\n",
    "print('Python' in text)  # Returns True if 'Python' is in text\n",
    "print('Java' not in text)  # Returns True if 'Java' is not in text\n",
    "print('c' in text) # Returns False since 'c' is not in text"
   ]
  },
  {
   "cell_type": "code",
   "execution_count": 31,
   "id": "4f038d8f",
   "metadata": {},
   "outputs": [
    {
     "name": "stdout",
     "output_type": "stream",
     "text": [
      "Roses are red,\n",
      "Violets are blue,\n",
      "Sugar is sweet,\n",
      "And so are you.\n"
     ]
    }
   ],
   "source": [
    "# multiline string\n",
    "poem = \"\"\"Roses are red,\n",
    "Violets are blue,\n",
    "Sugar is sweet,\n",
    "And so are you.\"\"\"\n",
    "print(poem)  # Prints the multiline string"
   ]
  },
  {
   "cell_type": "code",
   "execution_count": 35,
   "id": "9528b66d",
   "metadata": {},
   "outputs": [
    {
     "name": "stdout",
     "output_type": "stream",
     "text": [
      "D e v a n s h   p a n d e y "
     ]
    }
   ],
   "source": [
    "name = 'Devansh pandey'\n",
    "for i in range(len(name)):\n",
    "    print(name[i], end=' ')  # Prints each character in the string with a space in between"
   ]
  },
  {
   "cell_type": "code",
   "execution_count": 34,
   "id": "eeb11657",
   "metadata": {},
   "outputs": [
    {
     "name": "stdout",
     "output_type": "stream",
     "text": [
      "D e v a n s h   p a n d e y "
     ]
    }
   ],
   "source": [
    "name = 'Devansh pandey'\n",
    "for i in name:\n",
    "    print(i,end=' ')  # Prints each character in the string with a space in between"
   ]
  },
  {
   "cell_type": "code",
   "execution_count": 38,
   "id": "d7f4978e",
   "metadata": {},
   "outputs": [
    {
     "name": "stdout",
     "output_type": "stream",
     "text": [
      "index 0: D\n",
      "index 1: e\n",
      "index 2: v\n",
      "index 3: a\n",
      "index 4: n\n",
      "index 5: s\n",
      "index 6: h\n",
      "index 7:  \n",
      "index 8: p\n",
      "index 9: a\n",
      "index 10: n\n",
      "index 11: d\n",
      "index 12: e\n",
      "index 13: y\n"
     ]
    }
   ],
   "source": [
    "name = 'Devansh pandey'\n",
    "for i in range(len(name)):\n",
    "    print(f'index {i}: {name[i]}')  # Prints each character in the string with its index"
   ]
  },
  {
   "cell_type": "code",
   "execution_count": null,
   "id": "2030e984",
   "metadata": {},
   "outputs": [
    {
     "name": "stdout",
     "output_type": "stream",
     "text": [
      "Your name is: Devansh Pandey\n"
     ]
    }
   ],
   "source": [
    "#1 Wap to take your name as input and print it\n",
    "name = input(\"Enter your name: \")\n",
    "print(\"Your name is:\", name)"
   ]
  },
  {
   "cell_type": "code",
   "execution_count": null,
   "id": "a0f62f5a",
   "metadata": {},
   "outputs": [
    {
     "name": "stdout",
     "output_type": "stream",
     "text": [
      "First character: P\n",
      "Last character: n\n"
     ]
    }
   ],
   "source": [
    "#2 Wap to print first and last character of the string 'Python'\n",
    "str = 'Python'\n",
    "print(\"First character:\", str[0])\n",
    "print(\"Last character:\", str[-1])"
   ]
  },
  {
   "cell_type": "code",
   "execution_count": null,
   "id": "f30ea695",
   "metadata": {},
   "outputs": [
    {
     "name": "stdout",
     "output_type": "stream",
     "text": [
      "Length of the string: 11\n"
     ]
    }
   ],
   "source": [
    "#3 Wap to length of the string 'Hello World' using len()\n",
    "str = 'Hello World'\n",
    "print('Length of the string:', len(str)\n",
    "      )"
   ]
  },
  {
   "cell_type": "code",
   "execution_count": 42,
   "id": "605f327c",
   "metadata": {},
   "outputs": [
    {
     "name": "stdout",
     "output_type": "stream",
     "text": [
      "Good Morning\n"
     ]
    }
   ],
   "source": [
    "#4 concatenate two strings: 'Good' and 'Morning'\n",
    "str1 = 'Good'\n",
    "str2 = 'Morning'\n",
    "print(str1 + ' ' + str2)"
   ]
  },
  {
   "cell_type": "code",
   "execution_count": 43,
   "id": "0271c22b",
   "metadata": {},
   "outputs": [
    {
     "name": "stdout",
     "output_type": "stream",
     "text": [
      "HELLO\n"
     ]
    }
   ],
   "source": [
    "#5 convert 'hello' to uppercase\n",
    "str = 'hello'\n",
    "print(str.upper())"
   ]
  },
  {
   "cell_type": "code",
   "execution_count": 44,
   "id": "8ac8d3de",
   "metadata": {},
   "outputs": [
    {
     "name": "stdout",
     "output_type": "stream",
     "text": [
      "Character at index 2: h\n"
     ]
    }
   ],
   "source": [
    "#6 print the character at index 2 of the string 'School'\n",
    "str = 'School'\n",
    "print('Character at index 2:', str[2])"
   ]
  },
  {
   "cell_type": "code",
   "execution_count": 45,
   "id": "cb609759",
   "metadata": {},
   "outputs": [
    {
     "name": "stdout",
     "output_type": "stream",
     "text": [
      "True\n"
     ]
    }
   ],
   "source": [
    "#7 check whether 'a' is present in the word 'banana' \n",
    "str = 'banana'\n",
    "print('a' in str)"
   ]
  },
  {
   "cell_type": "code",
   "execution_count": 47,
   "id": "b514fc41",
   "metadata": {},
   "outputs": [
    {
     "name": "stdout",
     "output_type": "stream",
     "text": [
      "The letter 'a' appears 3 times in the sentence.\n"
     ]
    }
   ],
   "source": [
    "#8 take a sentence and count how many times 'a' is present in it\n",
    "sentence = input(\"Enter a sentence: \")\n",
    "count_a = sentence.count('a')\n",
    "print(f\"The letter 'a' appears {count_a} times in the sentence.\")\n"
   ]
  },
  {
   "cell_type": "code",
   "execution_count": 48,
   "id": "6ccf6f23",
   "metadata": {},
   "outputs": [
    {
     "name": "stdout",
     "output_type": "stream",
     "text": [
      "bananabananabanana\n"
     ]
    }
   ],
   "source": [
    "#9 create a string with your favorite fruit and repeat it 3 times\n",
    "fruit = 'banana'\n",
    "print(fruit * 3) "
   ]
  },
  {
   "cell_type": "code",
   "execution_count": 50,
   "id": "257d8e36",
   "metadata": {},
   "outputs": [
    {
     "name": "stdout",
     "output_type": "stream",
     "text": [
      "['Python', 'is', 'fun']\n"
     ]
    }
   ],
   "source": [
    "#10 split the sentence 'Python is fun' into a list of words\n",
    "sentence = 'Python is fun'\n",
    "words = sentence.split()\n",
    "print(words)"
   ]
  },
  {
   "cell_type": "code",
   "execution_count": null,
   "id": "4b90b158",
   "metadata": {},
   "outputs": [],
   "source": []
  }
 ],
 "metadata": {
  "kernelspec": {
   "display_name": "base",
   "language": "python",
   "name": "python3"
  },
  "language_info": {
   "codemirror_mode": {
    "name": "ipython",
    "version": 3
   },
   "file_extension": ".py",
   "mimetype": "text/x-python",
   "name": "python",
   "nbconvert_exporter": "python",
   "pygments_lexer": "ipython3",
   "version": "3.13.2"
  }
 },
 "nbformat": 4,
 "nbformat_minor": 5
}
