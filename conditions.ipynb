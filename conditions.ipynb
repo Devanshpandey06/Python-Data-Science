{
 "cells": [
  {
   "cell_type": "markdown",
   "id": "8f97694c",
   "metadata": {},
   "source": [
    "#### IF Statement"
   ]
  },
  {
   "cell_type": "code",
   "execution_count": 1,
   "id": "8c04048f",
   "metadata": {},
   "outputs": [
    {
     "name": "stdout",
     "output_type": "stream",
     "text": [
      "Grade: B\n",
      "Grade: C\n",
      "FAIL\n"
     ]
    }
   ],
   "source": [
    "marks = 85\n",
    "if marks >= 90:\n",
    "    print(\"Grade: A\")\n",
    "if marks >= 80:\n",
    "    print(\"Grade: B\")   \n",
    "if marks >= 70: \n",
    "    print(\"Grade: C\")\n",
    "if marks >= 60: \n",
    "    print(\"FAIL\")   "
   ]
  },
  {
   "cell_type": "markdown",
   "id": "fbe8e5b8",
   "metadata": {},
   "source": [
    "#### ELIF Statement"
   ]
  },
  {
   "cell_type": "code",
   "execution_count": 3,
   "id": "2af701e3",
   "metadata": {},
   "outputs": [
    {
     "name": "stdout",
     "output_type": "stream",
     "text": [
      "Grade: B\n"
     ]
    }
   ],
   "source": [
    "marks = 85\n",
    "if marks >= 90:\n",
    "    print(\"Grade: A\")\n",
    "elif marks >= 80:\n",
    "    print(\"Grade: B\")   \n",
    "elif marks >= 70: \n",
    "    print(\"Grade: C\")\n",
    "elif marks >= 60: \n",
    "    print(\"FAIL\")   \n",
    "else :\n",
    "    print(\"invalid marks\")"
   ]
  },
  {
   "cell_type": "code",
   "execution_count": 2,
   "id": "b8300e53",
   "metadata": {},
   "outputs": [
    {
     "name": "stdout",
     "output_type": "stream",
     "text": [
      "you are eligible to vote\n"
     ]
    }
   ],
   "source": [
    "age = int(input(\"enter your age\"))\n",
    "if age>=18:\n",
    "    print(\"you are eligible to vote\")\n",
    "else:\n",
    "    print(\"you are not eligible to vote\")\n",
    "    "
   ]
  },
  {
   "cell_type": "code",
   "execution_count": 4,
   "id": "0e642f14",
   "metadata": {},
   "outputs": [
    {
     "name": "stdout",
     "output_type": "stream",
     "text": [
      "The two sides are not equal.\n"
     ]
    }
   ],
   "source": [
    "# check whether the two sides of a triangle are equal or not\n",
    "a = int(input(\"Enter the first side of the triangle: \"))\n",
    "b = int(input(\"Enter the second side of the triangle: \"))\n",
    "if a == b:\n",
    "    print(\"The two sides are equal.\")   \n",
    "else:\n",
    "    print(\"The two sides are not equal.\")   "
   ]
  },
  {
   "cell_type": "code",
   "execution_count": 5,
   "id": "75961568",
   "metadata": {},
   "outputs": [
    {
     "name": "stdout",
     "output_type": "stream",
     "text": [
      "The triangle is neither equilateral nor isosceles.\n"
     ]
    }
   ],
   "source": [
    "# check whether a triangle is equilateral or isoceles or triangle\n",
    "a = int(input(\"Enter the first side of the triangle: \"))\n",
    "b = int(input(\"Enter the second side of the triangle: \"))\n",
    "c = int(input(\"Enter the third side of the triangle: \"))\n",
    "if a == b and b == c:\n",
    "    print(\"The triangle is equilateral.\")\n",
    "elif a == b or b == c or a == c:\n",
    "    print(\"The triangle is isosceles.\") \n",
    "else:\n",
    "    print(\"The triangle is neither equilateral nor isosceles.\")\n",
    "    "
   ]
  },
  {
   "cell_type": "code",
   "execution_count": null,
   "id": "b9d0019b",
   "metadata": {},
   "outputs": [
    {
     "name": "stdout",
     "output_type": "stream",
     "text": [
      "The number is even.\n"
     ]
    }
   ],
   "source": [
    "#check whether a number is even or odd\n",
    "num = int(input(\"Enter a number: \"))\n",
    "if num % 2 == 0:\n",
    "    print(\"The number is even.\")\n",
    "else:\n",
    "    print(\"The number is odd.\")     "
   ]
  },
  {
   "cell_type": "code",
   "execution_count": null,
   "id": "4419602a",
   "metadata": {},
   "outputs": [
    {
     "name": "stdout",
     "output_type": "stream",
     "text": [
      "The character is not a vowel.\n"
     ]
    }
   ],
   "source": [
    "# check whether a character is a vowel or not\n",
    "char = input(\"Enter a character: \").lower()\n",
    "if char in 'aeiou':\n",
    "    print(\"The character is a vowel.\")\n",
    "else:\n",
    "    print(\"The character is not a vowel.\")  \n",
    "    "
   ]
  },
  {
   "cell_type": "code",
   "execution_count": 8,
   "id": "6ed1f99f",
   "metadata": {},
   "outputs": [
    {
     "name": "stdout",
     "output_type": "stream",
     "text": [
      "Gross Salary: 57500.0\n"
     ]
    }
   ],
   "source": [
    "# calculate the gross salary of an employee where basic salary is 50000, TDA id 10% of basic salary and HRA is 5% of basic salary\n",
    "basic_salary = 50000\n",
    "TDA = 0.10 * basic_salary\n",
    "HRA = 0.05 * basic_salary\n",
    "gross_salary = basic_salary + TDA + HRA\n",
    "print(\"Gross Salary:\", gross_salary)    \n"
   ]
  },
  {
   "cell_type": "code",
   "execution_count": 9,
   "id": "ce339720",
   "metadata": {},
   "outputs": [
    {
     "name": "stdout",
     "output_type": "stream",
     "text": [
      "Registration successful🎉\n"
     ]
    }
   ],
   "source": [
    "username = input(\"Enter your username: \")\n",
    "email = input(\"Enter your email: \")\n",
    "password = input(\"Enter your password: \")\n",
    "cpass = input(\"Enter your password\")\n",
    "if len(username)>5 and len (username)<=20:\n",
    "    if '@' in email and len(email) > 10:\n",
    "        if len(password) >= 10 and password != username:\n",
    "            if password == cpass:\n",
    "                print(\"Registration successful🎉\")\n",
    "            else:\n",
    "                print(\"Password does not match😥\")\n",
    "        else:\n",
    "            print(\"Incorrect password 😣 \")\n",
    "    else:\n",
    "        print(\"Invalid email🤦🏼‍♂️\")\n",
    "else:\n",
    "    print(\"Invalid username😭😢\")"
   ]
  },
  {
   "cell_type": "code",
   "execution_count": 13,
   "id": "ad4d9f6b",
   "metadata": {},
   "outputs": [
    {
     "name": "stdout",
     "output_type": "stream",
     "text": [
      "4 is not a prime number.\n"
     ]
    }
   ],
   "source": [
    "# check wheter a number is prime or not\n",
    "num = int(input(\"Enter a number: \"))\n",
    "if num > 1:\n",
    "    for i in range (2, num):\n",
    "        if num%i==0 :\n",
    "            print(num, 'is not a prime number.')\n",
    "            break\n",
    "    else:\n",
    "        print(num, 'is a prime number.')\n"
   ]
  },
  {
   "cell_type": "code",
   "execution_count": null,
   "id": "6306289c",
   "metadata": {},
   "outputs": [],
   "source": [
    "\n",
    "\n"
   ]
  },
  {
   "cell_type": "code",
   "execution_count": null,
   "id": "21846bdd",
   "metadata": {},
   "outputs": [],
   "source": []
  }
 ],
 "metadata": {
  "kernelspec": {
   "display_name": "base",
   "language": "python",
   "name": "python3"
  },
  "language_info": {
   "codemirror_mode": {
    "name": "ipython",
    "version": 3
   },
   "file_extension": ".py",
   "mimetype": "text/x-python",
   "name": "python",
   "nbconvert_exporter": "python",
   "pygments_lexer": "ipython3",
   "version": "3.13.2"
  }
 },
 "nbformat": 4,
 "nbformat_minor": 5
}
