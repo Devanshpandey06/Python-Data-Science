{
 "cells": [
  {
   "cell_type": "markdown",
   "id": "8f97694c",
   "metadata": {},
   "source": [
    "#### IF Statement"
   ]
  },
  {
   "cell_type": "code",
   "execution_count": 1,
   "id": "8c04048f",
   "metadata": {},
   "outputs": [
    {
     "name": "stdout",
     "output_type": "stream",
     "text": [
      "Grade: B\n",
      "Grade: C\n",
      "FAIL\n"
     ]
    }
   ],
   "source": [
    "marks = 85\n",
    "if marks >= 90:\n",
    "    print(\"Grade: A\")\n",
    "if marks >= 80:\n",
    "    print(\"Grade: B\")   \n",
    "if marks >= 70: \n",
    "    print(\"Grade: C\")\n",
    "if marks >= 60: \n",
    "    print(\"FAIL\")   "
   ]
  },
  {
   "cell_type": "markdown",
   "id": "fbe8e5b8",
   "metadata": {},
   "source": [
    "#### ELIF Statement"
   ]
  },
  {
   "cell_type": "code",
   "execution_count": 3,
   "id": "2af701e3",
   "metadata": {},
   "outputs": [
    {
     "name": "stdout",
     "output_type": "stream",
     "text": [
      "Grade: B\n"
     ]
    }
   ],
   "source": [
    "marks = 85\n",
    "if marks >= 90:\n",
    "    print(\"Grade: A\")\n",
    "elif marks >= 80:\n",
    "    print(\"Grade: B\")   \n",
    "elif marks >= 70: \n",
    "    print(\"Grade: C\")\n",
    "elif marks >= 60: \n",
    "    print(\"FAIL\")   \n",
    "else :\n",
    "    print(\"invalid marks\")"
   ]
  },
  {
   "cell_type": "code",
   "execution_count": null,
   "id": "b8300e53",
   "metadata": {},
   "outputs": [],
   "source": []
  }
 ],
 "metadata": {
  "kernelspec": {
   "display_name": "base",
   "language": "python",
   "name": "python3"
  },
  "language_info": {
   "codemirror_mode": {
    "name": "ipython",
    "version": 3
   },
   "file_extension": ".py",
   "mimetype": "text/x-python",
   "name": "python",
   "nbconvert_exporter": "python",
   "pygments_lexer": "ipython3",
   "version": "3.13.2"
  }
 },
 "nbformat": 4,
 "nbformat_minor": 5
}
