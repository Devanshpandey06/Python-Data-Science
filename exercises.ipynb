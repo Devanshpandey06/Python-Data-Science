{
 "cells": [
  {
   "cell_type": "code",
   "execution_count": 4,
   "id": "b5ffafb3",
   "metadata": {},
   "outputs": [
    {
     "name": "stdout",
     "output_type": "stream",
     "text": [
      "reversed num is: 65\n"
     ]
    }
   ],
   "source": [
    "# WAP To reverse a number\n",
    "num = int(input(\"enter a number\"))\n",
    "rev= 0\n",
    "while num>0:\n",
    "    d=num%10\n",
    "    rev = rev*10+d\n",
    "    num= num // 10\n",
    "print(\"reversed num is:\",rev)\n"
   ]
  },
  {
   "cell_type": "code",
   "execution_count": null,
   "id": "f296b4be",
   "metadata": {},
   "outputs": [
    {
     "name": "stdout",
     "output_type": "stream",
     "text": [
      "armstrong number\n"
     ]
    }
   ],
   "source": [
    "# WAP to find whether a number is armstrong or not\n",
    "num = int(input(\"enter a number\"))\n",
    "copy = num\n",
    "sum = 0\n",
    "while num>0:\n",
    "    d = num % 10\n",
    "    sum = sum + d**3\n",
    "    num = num // 10\n",
    "\n",
    "if sum == copy:\n",
    "    print(\"armstrong number\")\n",
    "else:\n",
    "    print(\"not an armstrong number\")\n"
   ]
  },
  {
   "cell_type": "code",
   "execution_count": 15,
   "id": "feddeed1",
   "metadata": {},
   "outputs": [
    {
     "name": "stdout",
     "output_type": "stream",
     "text": [
      "not a palindrome number\n"
     ]
    }
   ],
   "source": [
    "# WAP to check whether a number is palindrome or not\n",
    "\n",
    "num = int(input(\"enter a number\"))\n",
    "copy = num\n",
    "rev = 0 \n",
    "while num > 0:\n",
    "    d = num % 10\n",
    "    rev = rev * 10 + d\n",
    "    num = num // 10\n",
    "\n",
    "if copy == rev:\n",
    "    print(\"palindrome number\")\n",
    "else:\n",
    "    print(\"not a palindrome number\")\n",
    "\n"
   ]
  },
  {
   "cell_type": "code",
   "execution_count": 20,
   "id": "ef6197ea",
   "metadata": {},
   "outputs": [
    {
     "name": "stdout",
     "output_type": "stream",
     "text": [
      "spy number\n"
     ]
    }
   ],
   "source": [
    "# WAP to check whether a number is a spy number or not\n",
    "num = int(input(\"enter a number\"))\n",
    "copy = num\n",
    "sum = 0\n",
    "pro = 1\n",
    "\n",
    "while num > 0:\n",
    "    d = num % 10\n",
    "    sum = sum + d\n",
    "    pro = pro * d\n",
    "    num = num // 10\n",
    "    \n",
    "if sum == pro:\n",
    "    print(\"spy number\") \n",
    "else:\n",
    "    print(\"not a spy number\")\n"
   ]
  },
  {
   "cell_type": "code",
   "execution_count": null,
   "id": "579474e8",
   "metadata": {},
   "outputs": [
    {
     "name": "stdout",
     "output_type": "stream",
     "text": [
      "factorial of 5 is 120\n"
     ]
    }
   ],
   "source": [
    "# WAP to find  the factorial of a number\n",
    "num = int(input(\"enter a number\"))\n",
    "fact = 1\n",
    "for i in range(1, num + 1):\n",
    "    fact = fact * i\n",
    "print(\"factorial of\", num, \"is\", fact)\n"
   ]
  },
  {
   "cell_type": "code",
   "execution_count": null,
   "id": "3e6c5571",
   "metadata": {},
   "outputs": [],
   "source": []
  }
 ],
 "metadata": {
  "kernelspec": {
   "display_name": "base",
   "language": "python",
   "name": "python3"
  },
  "language_info": {
   "codemirror_mode": {
    "name": "ipython",
    "version": 3
   },
   "file_extension": ".py",
   "mimetype": "text/x-python",
   "name": "python",
   "nbconvert_exporter": "python",
   "pygments_lexer": "ipython3",
   "version": "3.13.2"
  }
 },
 "nbformat": 4,
 "nbformat_minor": 5
}
